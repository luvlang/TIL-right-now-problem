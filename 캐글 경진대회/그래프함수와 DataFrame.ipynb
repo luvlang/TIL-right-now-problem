{
 "cells": [
  {
   "cell_type": "markdown",
   "metadata": {},
   "source": [
    "# 1. What tech?\n",
    ">- 개발/컴퓨터 공부란 결국엔 직접 만들고, 만든 것을 이해하는 작업.\n",
    ">- 어떤 기술(make)에 대한 이해인가?"
   ]
  },
  {
   "cell_type": "markdown",
   "metadata": {},
   "source": [
    "# 2. What problem?\n",
    ">- problem이란 무엇일까? 어떤 기술/구조물에 대한 이해에 수반하는 과정  \n",
    ">- 그 기술이 만들어진 것을(혹은 그 기술을 만들기 위해서) 이해하는 과정에서 발생한 문제들\n",
    "\n",
    "1. 주피터 노트북/파이썬 인터프리터는 어떻게 DataFrame을 print 메소드 없이 출력할 수 있는가?\n",
    "\n",
    "2. seaborn 라이브러리의 시각화 그래프 함수가 반환하는 데이터 프레임을 명시적으로 호출하지 않고도 \n",
    "\t- matplotlib의 pyplot의 함수(show())를 통해서 출력될 수 있는 이유\n",
    "\t- 주피터 노트북에서 출력될 수 있는 이유"
   ]
  },
  {
   "cell_type": "markdown",
   "metadata": {},
   "source": [
    "# 3. How to solve\n",
    ">- 문제를 해결하기 위한 접근법, 솔루션"
   ]
  },
  {
   "cell_type": "markdown",
   "metadata": {},
   "source": [
    "# 4. How to implement\n",
    ">- 솔루션의 구현"
   ]
  },
  {
   "cell_type": "markdown",
   "metadata": {},
   "source": [
    "# 5. Derived Problem\n",
    ">- 파생된 문제점, 개선점\n",
    ">- 해당 기술(지식)에 대한 내 생각"
   ]
  }
 ],
 "metadata": {
  "language_info": {
   "name": "python"
  }
 },
 "nbformat": 4,
 "nbformat_minor": 2
}
