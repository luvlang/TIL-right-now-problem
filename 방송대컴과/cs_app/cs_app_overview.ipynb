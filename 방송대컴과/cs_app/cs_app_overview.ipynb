{
 "cells": [
  {
   "cell_type": "markdown",
   "metadata": {},
   "source": [
    "# 1. What tech?\n",
    ">- 개발/컴퓨터 공부란 결국엔 직접 만들고, 만든 것을 이해하는 작업.\n",
    ">- 어떤 기술(make)에 대한 이해인가?\n",
    "\n",
    "# Book Overview\n",
    "- ch1: 간단한 프로그램(Hello world)의 life cycle을 따라가기\n",
    "- ch2: 컴퓨터 산술연산 - 부호 없는 속성, 숫자의 표현 방식, 2의 보수 표현법, 부호o<->부호x 캐스팅, 산술연산자(수학적 속성)\n",
    "- ch3: C컴파일러가 생성하는 x86-64 기계어를 읽는 방법\n",
    "  - instruction 패턴들\n",
    "\t\t- control 관련 구조물: 조건식, 반복문, switch\n",
    "\t- procedures의 구현: 스택 할당, 레지스터 사용 규칙, 파라미터 전달\n",
    "\t- 다양한 자료구조들의 할당/접근 방식: 구조체, union, 배열\n",
    "\t- 정수, 부동소수점 연산을 모두 구현하는 명령어들\n",
    "\t- 코드 보안 취약성(버퍼 오버플로 등) By machine-level 관점\n",
    "- ch4: 조합논리 & 순차논리 요소들이 Y86-64를 실행하는 datapath(Y86-64)에서 어떻게 결합되a는지.\n",
    "\t- single cycle -> 파이프라이닝(한 명령어를 수행하도록 요구된 각 step이 여러 분리된 stage로 구현됨) \n",
    "\t- processor 디자인의 control logic은 HCL(verilog 생성에 사용됨)로 기술됨.\n",
    "- ch5: 코드 퍼포먼스를 향상시키는 기술 - 컴파일러가 효율적인 기계어를 만들어내도록 C코드를 작성하는 아이디어\n",
    "  - 이미 한 작업에 대한 반복을 줄이기 -> 기계어 생성시 명령어 레벨의 병렬성을 향상시키는 변환\n",
    "\t- 현대적 out-of-order processor의 작동방식에 대한 이해\n",
    "- ch6: 메모리 시스템 - 동일한 접근 시간을 갖는 선형 배열 형태의 추상적 모델이 아닌 각기 다른 용량, 비용, 접근 시간을 갖는 저장공간의 계층 구조.\n",
    "\t- RAM, ROM의 종류, 기하학, 자기디스크/SSD의 구성"
   ]
  },
  {
   "cell_type": "markdown",
   "metadata": {},
   "source": [
    "# 2. What problem?\n",
    ">- problem이란 무엇일까? 어떤 기술/구조물에 대한 이해에 수반하는 과정.\n",
    ">- 그 기술이 만들어진 것을(혹은 그 기술을 만들기 위해서) 이해하는 과정에서 발생한 문제들을 기술, 혹은 재정의"
   ]
  },
  {
   "cell_type": "code",
   "execution_count": null,
   "metadata": {
    "vscode": {
     "languageId": "plaintext"
    }
   },
   "outputs": [],
   "source": []
  },
  {
   "cell_type": "markdown",
   "metadata": {},
   "source": [
    "# 3. How to solve\n",
    ">- 문제를 해결하기 위한 접근법, 솔루션"
   ]
  },
  {
   "cell_type": "markdown",
   "metadata": {},
   "source": [
    "# 4. How to implement\n",
    ">- 솔루션의 구현"
   ]
  },
  {
   "cell_type": "markdown",
   "metadata": {},
   "source": [
    "# 5. Derived Problem\n",
    ">- 파생된 문제점, 개선점\n",
    ">- 해당 기술(지식)에 대한 내 생각"
   ]
  }
 ],
 "metadata": {
  "language_info": {
   "name": "python"
  }
 },
 "nbformat": 4,
 "nbformat_minor": 2
}
