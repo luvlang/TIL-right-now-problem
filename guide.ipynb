{
 "cells": [
  {
   "cell_type": "markdown",
   "metadata": {},
   "source": [
    "# 1. What tech?\n",
    ">- 어떤 기술(make)에 대한 이해인가?\n",
    ">- 개발/컴퓨터 관련 일과 공부란 결국엔 직접 만들고, 만든 것을 이해하는 작업."
   ]
  },
  {
   "cell_type": "markdown",
   "metadata": {},
   "source": [
    "----\n",
    "# 2. What problem?\n",
    ">- problem이란 무엇일까? 어떤 기술/구조물에 대한 이해에 수반하는 과정  \n",
    ">- 그 기술이 만들어진 것을(혹은 그 기술을 만들기 위해서) 이해하는 과정에서 발생한 문제들"
   ]
  },
  {
   "cell_type": "markdown",
   "metadata": {},
   "source": [
    "----\n",
    "# 3. How to solve\n",
    ">- 문제를 해결하기 위한 접근법, 솔루션"
   ]
  },
  {
   "cell_type": "markdown",
   "metadata": {},
   "source": [
    "----\n",
    "# 4. How to implement\n",
    ">- 솔루션의 구현"
   ]
  },
  {
   "cell_type": "markdown",
   "metadata": {},
   "source": [
    "----\n",
    "# 5. Derived Problem\n",
    ">- 파생된 문제점, 개선점\n",
    ">- 해당 기술(지식)에 대한 내 생각"
   ]
  }
 ],
 "metadata": {
  "language_info": {
   "name": "python"
  }
 },
 "nbformat": 4,
 "nbformat_minor": 2
}
